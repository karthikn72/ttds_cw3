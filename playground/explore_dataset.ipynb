{
 "cells": [
  {
   "cell_type": "code",
   "execution_count": 20,
   "metadata": {},
   "outputs": [],
   "source": [
    "import pandas as pd\n",
    "import re\n",
    "import os\n",
    "\n",
    "df = pd.read_csv('../dataset/all-the-news-2-1/all-the-news-2-1.csv', nrows=1000)\n",
    "df2 = pd.read_csv('../dataset/prepped_articles.csv', nrows=1000)"
   ]
  },
  {
   "cell_type": "code",
   "execution_count": 26,
   "metadata": {},
   "outputs": [
    {
     "data": {
      "text/html": [
       "<div>\n",
       "<style scoped>\n",
       "    .dataframe tbody tr th:only-of-type {\n",
       "        vertical-align: middle;\n",
       "    }\n",
       "\n",
       "    .dataframe tbody tr th {\n",
       "        vertical-align: top;\n",
       "    }\n",
       "\n",
       "    .dataframe thead th {\n",
       "        text-align: right;\n",
       "    }\n",
       "</style>\n",
       "<table border=\"1\" class=\"dataframe\">\n",
       "  <thead>\n",
       "    <tr style=\"text-align: right;\">\n",
       "      <th></th>\n",
       "      <th>date</th>\n",
       "      <th>author</th>\n",
       "      <th>title</th>\n",
       "      <th>article</th>\n",
       "      <th>url</th>\n",
       "      <th>publication</th>\n",
       "    </tr>\n",
       "  </thead>\n",
       "  <tbody>\n",
       "    <tr>\n",
       "      <th>0</th>\n",
       "      <td>2016-12-09 18:31:00</td>\n",
       "      <td>{Lee Drutman}</td>\n",
       "      <td>We should take concerns about the health of li...</td>\n",
       "      <td>This post is part of Polyarchy, an independent...</td>\n",
       "      <td>https://www.vox.com/polyarchy/2016/12/9/138983...</td>\n",
       "      <td>Vox</td>\n",
       "    </tr>\n",
       "    <tr>\n",
       "      <th>1</th>\n",
       "      <td>2016-10-07 21:26:46</td>\n",
       "      <td>{Scott Davis}</td>\n",
       "      <td>Colts GM Ryan Grigson says Andrew Luck's contr...</td>\n",
       "      <td>The Indianapolis Colts made Andrew Luck the h...</td>\n",
       "      <td>https://www.businessinsider.com/colts-gm-ryan-...</td>\n",
       "      <td>Business Insider</td>\n",
       "    </tr>\n",
       "    <tr>\n",
       "      <th>2</th>\n",
       "      <td>2018-01-26 00:00:00</td>\n",
       "      <td>{nan}</td>\n",
       "      <td>Trump denies report he ordered Mueller fired</td>\n",
       "      <td>DAVOS, Switzerland (Reuters) - U.S. President ...</td>\n",
       "      <td>https://www.reuters.com/article/us-davos-meeti...</td>\n",
       "      <td>Reuters</td>\n",
       "    </tr>\n",
       "    <tr>\n",
       "      <th>3</th>\n",
       "      <td>2019-06-27 00:00:00</td>\n",
       "      <td>{nan}</td>\n",
       "      <td>France's Sarkozy reveals his 'Passions' but in...</td>\n",
       "      <td>PARIS (Reuters) - Former French president Nico...</td>\n",
       "      <td>https://www.reuters.com/article/france-politic...</td>\n",
       "      <td>Reuters</td>\n",
       "    </tr>\n",
       "    <tr>\n",
       "      <th>4</th>\n",
       "      <td>2019-06-17 00:00:00</td>\n",
       "      <td>{nan}</td>\n",
       "      <td>ECB's Coeure: If we decide to cut rates, we'd ...</td>\n",
       "      <td>BERLIN, June 17 (Reuters) - ECB board member B...</td>\n",
       "      <td>https://www.reuters.com/article/ecb-policy-coe...</td>\n",
       "      <td>Reuters</td>\n",
       "    </tr>\n",
       "  </tbody>\n",
       "</table>\n",
       "</div>"
      ],
      "text/plain": [
       "                  date         author  \\\n",
       "0  2016-12-09 18:31:00  {Lee Drutman}   \n",
       "1  2016-10-07 21:26:46  {Scott Davis}   \n",
       "2  2018-01-26 00:00:00          {nan}   \n",
       "3  2019-06-27 00:00:00          {nan}   \n",
       "4  2019-06-17 00:00:00          {nan}   \n",
       "\n",
       "                                               title  \\\n",
       "0  We should take concerns about the health of li...   \n",
       "1  Colts GM Ryan Grigson says Andrew Luck's contr...   \n",
       "2       Trump denies report he ordered Mueller fired   \n",
       "3  France's Sarkozy reveals his 'Passions' but in...   \n",
       "4  ECB's Coeure: If we decide to cut rates, we'd ...   \n",
       "\n",
       "                                             article  \\\n",
       "0  This post is part of Polyarchy, an independent...   \n",
       "1   The Indianapolis Colts made Andrew Luck the h...   \n",
       "2  DAVOS, Switzerland (Reuters) - U.S. President ...   \n",
       "3  PARIS (Reuters) - Former French president Nico...   \n",
       "4  BERLIN, June 17 (Reuters) - ECB board member B...   \n",
       "\n",
       "                                                 url       publication  \n",
       "0  https://www.vox.com/polyarchy/2016/12/9/138983...               Vox  \n",
       "1  https://www.businessinsider.com/colts-gm-ryan-...  Business Insider  \n",
       "2  https://www.reuters.com/article/us-davos-meeti...           Reuters  \n",
       "3  https://www.reuters.com/article/france-politic...           Reuters  \n",
       "4  https://www.reuters.com/article/ecb-policy-coe...           Reuters  "
      ]
     },
     "execution_count": 26,
     "metadata": {},
     "output_type": "execute_result"
    }
   ],
   "source": [
    "df2.head()"
   ]
  },
  {
   "cell_type": "code",
   "execution_count": 30,
   "metadata": {},
   "outputs": [
    {
     "name": "stdout",
     "output_type": "stream",
     "text": [
      "['date', 'author', 'title', 'article', 'url', 'publication']\n",
      "['2016-12-09 18:31:00', '{Lee Drutman}', 'We should take concerns about the health of liberal democracy seriously', 'This post is part of Polyarchy, an independent blog produced by the political reform program at New America, a Washington think tank devoted to developing new ideas and new voices. Imagine you are an otherwise healthy 30-something who starts feeling weird. You are sometimes short of breath. You get migraines. Your feet start to swell a little. But otherwise, everything seems fine. You go to the doctor. The doctor runs some tests. She tells you,\\xa0It\\'s probably nothing, but these could be signs of a coming heart attack. You push for more certainty, but the doctor tells you she\\'s not sure. The human body is a complex system. You\\'re young and otherwise pretty healthy. There could be plenty of other explanations for what you\\'re feeling. But it is a little worrying. So just to be on the safe side, maybe you should reduce the stress in your life and eat a healthier diet. What would you do? If you\\'re a sensible person, you\\'d probably err on the side of precaution. Sure, it might be nothing to worry about, and the likelihood of a heart attack in your 30s might be low. But even a low chance is a low chance of something possibly fatal. Why take a chance, especially when the recommendations — less stress, healthier diet — are good for you either way? I offer this parable as a way of thinking about the debate that\\'s emerged over the past two weeks in response to Amanda Taub\\'s New York Times article profiling new findings by Roberto Stefan Foa and Yascha Mounk — findings that raise alarms about the fact that younger people have, over time, become less and less likely to say in surveys that it is \"essential\" to live in a democracy. Rather than share the sense of alarm, however, several critics have jumped on Foa and Mounk for misinterpreting the data and generating unnecessary panic. Political scientist Erik Voeten, for example, argued that their\\xa0analysis is misleading: \"The article by Mounk and Foa does document some small shifts in opinion on related issues. But these aren\\'t nearly as dramatic as the New York Times graph suggests.\" Similarly, Wonkblog\\'s Jeff Guo\\xa0reanalyzed the data and argued that it is \"far less alarming than\\xa0it seems.\" Foa and Mounk have responded, drawing on more analysis from their forthcoming Journal of Democracy article, which also documents increasing support among young people for \"a strong leader\" and rising support for extremism. Voeten, however, remains unimpressed, and now has more charts here suggesting the shifts are far less significant than Foa and Mounk make them out to be. \"And,\" he argues, \"it\\'s dangerous too to\\xa0tell the world that people are now ready to accept nondemocratic governance.\" For those who want to argue over how to interpret the data, you should follow the hyperlinks above. There are very reasonable points of disagreement. I don\\'t have much to add to that debate here, other than to observe that it\\'s very rare that data is unambiguous about important societal shifts before those shifts actually occur. When the data is unambiguous, it is almost always too late to do anything. The only sure sign of having a heart attack is, well, having a heart attack. Similarly, the only sure sign of a democratic collapse is, well, a democratic collapse. And whatever you think of the data analysis, there is also a mounting series of actual real-world election results that are hard to explain if support for liberal democracy is thriving. In deciding how seriously to take these findings, it\\'s also worth asking what we would do differently if we took Foa and Mounk\\'s findings seriously. How would we collectively respond? And what would be the consequences? For one, we\\'d probably invest in a lot more civic education, so that the next generation learns the basics of liberal democracy and understands why it\\'s a better system than authoritarian rule. This seems like a good idea regardless. Similarly, we might collectively invest considerable resources in making a strong public case for liberal democracy. We might also try to figure out ways to make our public institutions do more outreach to citizens to make sure they feel engaged in their democracy, and think hard about building up intermediary institutions that help people feel as though their voices are represented and taken seriously. Again, these seem like things we should be doing regardless, like reducing stress or improving the health of our diets. In my heart attack parable, if the doctor had told you that the only way to prevent a future heart attack would be to give up your job and your social life and spend the next year on strict bed rest eating only kale and chia seed salads, you might want to be a little more certain that you really were at high risk for a heart attack. After all, taking the risk seriously would impose a heavy cost on you. Other recent crises offer some examples of cases where key decision-makers did ignore warning signs, because taking those signs seriously would have imposed significant costs on them. For example, in the housing bubble of the mid-2000s, warnings were ignored because the financial industry had staked considerable investments and product lines on the myth that housing values would go up forever. To admit that housing was overvalued and that securitized mortgages were riskier than advertised would have cost investment banks dearly. But eventually, reality caught up with them, and the resulting damage was far worse than it would have been if we had paid attention to the early warning signs. Similarly, many carbon-intensive industries and fossil fuel producers pushed back on findings of climate change because taking those findings seriously would force significant changes in their industries. As a result, these industries funded doubt and uncertainty. The problem has since gotten much worse, and it has become harder to take effective action. The early scientists may have been alarmist. But we\\'d be in much better shape if we had listened to them. I would be more comforted if I could be certain that Voeten is right and Foa and Mounk are wrong. Maybe there is indeed nothing to worry about. But given the risks, as well as the recent string of election results, I\\'d rather err on the side of caution. Like the threat of a heart attack, the threat of autocracy or military rule replacing liberal democracy is pretty serious, and very difficult to recover from. I don\\'t want to take a chance. Especially when the preventive medicine consists of things we should probably be doing anyway.', 'https://www.vox.com/polyarchy/2016/12/9/13898340/democracy-warning-signs', 'Vox']\n",
      "['2016-10-07 21:26:46', '{Scott Davis}', \"Colts GM Ryan Grigson says Andrew Luck's contract makes it difficult to build the team\", \" The Indianapolis Colts made Andrew Luck the highest-paid player in NFL history this offseason with a five-year, $122-million contract with $89 million guaranteed. However, they're already finding that Luck's contract is inhibiting their ability to address weaknesses on other parts of the roster, particularly on defense. On Friday, Colts GM Ryan Grigson, who is under fire for the Colts 1-3 start, said that it's difficult to build up the team's defense with Luck making so much money. According to Keefer, Grigson did point out that the Colts still have young talent they're hoping to develop on defense. However, blaming Luck's contract — which the Colts gave him — for having a weak defense (30th in defensive DVOA) is not accurate. As others have pointed out, last year's Denver Broncos paid Peyton Manning $15 million in base salary while also boasting an elite defense. Luck also takes up $18.4 million against the salary cap this year, less than $1 million more than Manning did a year ago ($17.5 million). Much of this comes from drafting successfully, which the Colts have not done as well as elite teams like the Broncos or the Patriots, for instance. Now, with the Colts handcuffed to Luck's contract, drafting is going to become especially important, as will the use of whatever money they have in free agency. It's certainly possible to build a good defense with a high-paid quarterback, but if the Colts felt that paying Luck such a high sum of money would be difficult, perhaps they should have reconsidered what the final numbers. The highest-paid player on all 32 NFL teams\", 'https://www.businessinsider.com/colts-gm-ryan-grigson-andrew-luck-contract-2016-10', 'Business Insider']\n",
      "['2018-01-26 00:00:00', '{nan}', 'Trump denies report he ordered Mueller fired', 'DAVOS, Switzerland (Reuters) - U.S. President Donald Trump denied a report on Friday that he had ordered Special Counsel Robert Mueller fired last June, calling it “fake news”.  The New York Times reported on Thursday that Trump backed down from his order after the White House counsel threatened to resign rather than follow his directive, citing four people told of the matter.  “Fake news, folks, fake news,” Trump told reporters in Davos, when asked about the report.   Reporting by Steve Holland', 'https://www.reuters.com/article/us-davos-meeting-trump-mueller/trump-denies-report-he-ordered-mueller-fired-idUSKBN1FF12A', 'Reuters']\n",
      "['2019-06-27 00:00:00', '{nan}', \"France's Sarkozy reveals his 'Passions' but insists no come-back on cards\", 'PARIS (Reuters) - Former French president Nicolas Sarkozy published a new memoir on Thursday but was quick to dismiss speculation he might return to politics to rescue his old center-right party, which has shed support since President Emmanuel Macron stormed to power.  Entitled “Passions”, the autobiography documents Sarkozy’s rise to power, while hurling barbs at some of his former allies, including his prime minister Francois Fillon.  During his time in office from 2007-2012, Sarkozy earned the nickname “President Bling-Bling” for his brash style and close association with tycoons and celebrities. While at the Elysee, he met and married former model Carla Bruni.  “Passions” is released as France’s center-right fights for survival two years after President Emmanuel Macron’s election win dynamited the political landscape.  Sarkozy’s old party, Les Republicains, is locked in infighting and struggling to find direction, squeezed by Macron’s centrist party and the far right.  “The book is a political one, it does not announce my return,” Sarkozy told magazine Le Point. “I neither want nor can get involved in a partisan debate. That would sew confusion and division. There is no need for that. It would be misplaced.”  Nonetheless, each new appearance by the last unifying figure of the French right is closely followed - fearfully by those wary of the return of a big-name rival, and hopefully by those who long for Sarkozy’s political reincarnation.  Sarkozy has retired twice from politics: the first time after he lost his re-election bid in 2012. He returned to lead his party in 2014 only to quit again after he failed to win his party’s ticket to run for president in 2017.  Les Republicains are again without a leader after Laurent Wauquiez stepped down following the party’s dismal showing in May’s European election.  Even if Sarkozy were to return to frontline politics, he would struggle to put to one side multiple investigations, including into the financing of his re-election bid.   This month he learnt he must stand trial on charges of corruption and influence peddling in relation to allegations that he offered a judge a promotion in return for information on a parallel investigation.  Sarkozy has denied any wrongdoing.  Reporting by Simon Carraud; Writing by Richard Lough; Editing by Luke Baker and Hugh Lawson', 'https://www.reuters.com/article/france-politics-sarkozy/frances-sarkozy-reveals-his-passions-but-insists-no-come-back-on-cards-idUSL8N23Y5AS', 'Reuters']\n",
      "['2019-06-17 00:00:00', '{nan}', \"ECB's Coeure: If we decide to cut rates, we'd have to consider tiering\", 'BERLIN, June 17 (Reuters) - ECB board member Benoit Coeure said in an interview published on Monday that if the ECB decided cutting rates was the best option, it would have to consider what effect negative rates would have on banks and whether tiering was needed.  A so-called tiered deposit rate would mean banks are exempted in part from paying the ECB’s 0.40 percent annual charge on their excess reserves, boosting their profits as they struggle with an unexpected growth slowdown  “We would have to consider whether a tiering system is needed,” Coeure said in an interview with the Financial Times. “Today the prevailing view in the Governing Council is that it is not, but we also agree that it deserves further reflection.”  Reporting by Michelle MartinEditing by Tassilo Hummel', 'https://www.reuters.com/article/ecb-policy-coeure/ecbs-coeure-if-we-decide-to-cut-rates-wed-have-to-consider-tiering-idUSS8N23I05L', 'Reuters']\n",
      "['2019-06-23 00:00:00', '{nan}', 'Venezuela detains six military, police officials: family members, activists', 'CARACAS (Reuters) - Venezuelan authorities have arrested six members of the country’s military and police forces over the weekend, according to relatives of the detainees and human rights activists, as President Nicolas Maduro seeks to weed out dissent.   Air Force Brigade General Miguel Sisco Mora was arrested Friday afternoon in a parking lot in Guatire, some 40 kilometers (25 miles) east of the capital Caracas, his daughter Stephanie Sisco said. Navy Corvette Captain Rafael Costa was detained on Friday in nearby Guarenas, according to his wife Waleska Perez.  “We demand that the government provide us with information about his whereabouts,” Stephanie Sisco wrote on Twitter on Saturday.   The arrests come nearly two months after a failed uprising against Maduro called by opposition leader Juan Guaido, the head of the opposition-controlled National Assembly who in January invoked the constitution to assume a rival interim presidency and has called on the armed forces to join his cause.  They also come on the heels of a visit to Venezuela by U.N. human rights chief Michelle Bachelet, who on Friday called on Maduro to release prisoners arrested for peacefully protesting. Maduro, whose 2018 re-election has been widely denounced as illegitimate, said he would take the U.N.’s concerns seriously.  Human rights group Penal Forum had previously said that two retired Air Force colonels had been arrested in Caracas on Friday afternoon while two high ranking officials from Venezuela’s CICPC forensic police unit were arrested in Guatire, according to human rights lawyer Tamara Suju.  Neither Venezuela’s Information Ministry nor the Chief Prosecutor’s office responded to requests for comment on the six detentions on Sunday.  According to Penal Forum, some 700 people are detained for political reasons in Venezuela, including about 100 members of the military.   Maduro’s government has denied it holds political prisoners, and frequently accuses the opposition of fomenting violence. Maduro refers to Guaido as a puppet of the United States seeking to oust him in a coup.  Reporting by Vivian Sequera; Writing by Luc Cohen; Editing by Phil Berlowitz', 'https://www.reuters.com/article/us-venezuela-politics/venezuela-detains-six-military-police-officials-family-members-activists-idUSKCN1TO0OA', 'Reuters']\n",
      "['2018-05-02 17:09:00', '{Caroline Williams}', 'You Can Trick Your Brain Into Being More Focused', 'If only every day could be like this. You can’t put your finger on why: Maybe you had just the right amount of sleep. Maybe the stars are somehow aligned in your favor. Whatever the reason, you’re cooking on gas. Hours fly by like minutes, you’re feeling great, and before you know it it’s 5:30 pm and your to-do list is done.  This feeling of ‘flow’ or being ‘in the zone’ is something that most of us have experienced at some point or other—although not as often as we might like. It’s a mental state that elite athletes seem to have at their beck and call. For us mere mortals, though, it hardly ever shows up when we need it. Since the psychologist Mihály Csíkszentmihályi first described the zone (which he called ‘flow’) in 1975, neuroscientists have been trying to figure out what it is and how to make it show up on demand. Yet as they close in on the secrets of the zone, another truth has emerged: What we think of as  the zone is actually one of many mental states that a person can be in, each of which works for a particular kind of thinking. Here’s how to master not just one of them, but several.   The Flow ZoneTo understand when other states might work better, it makes sense to first consider what we know about this, the original ‘zone.\\' One thing we definitely know is that it feels great: Csíkszentmihályi describes it as the ‘optimal experience’ in which we can achieve true happiness.  One explanation for why it happens—and why it feels so good—is that it represents a perfect match between activity in brain networks involved in attention and the reward circuitry, which process pleasure. When different networks synchronize their activity—like two pendulums swinging in time—it makes the business of thinking run a little more smoothly, which explains why this particular zone feels effortless when you’re in it.  Even Csíkszentmihályi admits, however, that it’s not easy to achieve. “Flow is difficult to maintain for any length of time without at least momentary interruptions,” he wrote—and that was in the 1970s, before smartphones came along and took what was left of our attention span. So how best to get into the flow? One suggestion is that, rather than screwing up your eyes and trying to force yourself to concentrate, it might work better to do the opposite: Take your foot off the mental gas a little.  This finding came out of brain imaging experiments by cognitive neuroscientists Mike Esterman and Joe DeGutis of the Boston Attention and Learning Lab in Massachusetts. They measured activity in the default mode network (DMN) a collection of brain regions that gear up when we are not thinking of anything in particular. They compared this to activity in the dorsal attention network, which keeps us focused on one thing, and watched how the two fluctuated over time when people were asked to do a boring, repetitive task.  Surprisingly, they found that the best way to sustain concentration wasn’t to cut out DMN activity altogether, but to allow it to carry on as a low-level background hum. In real terms, that means keeping your mind on a long leash: letting it wander a little, before gently bringing it back to heel.  \"If you\\'re devoting all of your resources to a task you will likely be fighting your natural tendency to mind wander. This could actually make sustaining attention more effortful and challenging. If you try too hard you ay actually perform worse work over time,\" DeGutis says.  No matter how much you love your work, paying attention for long periods is hard mental work. By relaxing a little, it makes it easier to find the crucial balance of effort and enjoyment that nudges us into the flow. Rather than trying so hard that we set ourselves up to fail, the solution could simply be to stop beating ourselves up. More from Tonic: The Slow ZoneTime doesn’t only fly when you’re in the flow. It also flies when a deadline is heading your way and you haven’t quite hit your stride. If time is running short and the flow feels a million miles away, all is not lost. You still have time to master the slow zone.  For better or worse, strong emotions distract us from the passage of time, giving the illusion that it is zipping past unusually quickly. If it’s too difficult to take the emotion out of the equation (that deadline is coming whether you like it or not), the next best thing is to change the way your brain processes the passage of time, to mentally buy yourself a little more.  It sounds too good to be true, but Marc Wittmann, a psychologist at the Institute for Frontier Areas in Psychology and Mental Health in Freiburg, Germany, and author of  Felt Time, has a couple of suggestions on how it could be done. Wittmann believes that our brains count time by tuning into the rhythms of the body—the regular ticks of our heartbeat, breathing and so on. He calls this ‘body time’ and points to a region of the brain called the insula, which keeps track of our physical and emotional state, as key to this process.  “My idea is that you are attending to yourself, to your bodily self, your mental self and that is how you attend to time,” Wittman says.  In theory, then, if you can change the information that the insula receives, you might be able to control how you perceive time. One thing Wittman suggests is to speed up your bodily signals by exercising. When you stop, the body’s signals will gradually slow down to baseline, slowing your perception of time as it does so.  “Say I go jogging for an hour and then I’m calm down but still feel very active,\" Wittman says. \"I feel that everything is happening much slower because my body is much more activated and I feel myself much more intensely.\" Another option is to direct your attention to the here and now, purposefully focusing on the fine details of your surroundings, thoughts or your mental state. A 10-minute mindfulness meditation will help haul your focus back to the here and now and, by slowing your breathing rate, will also slow down your body signals. Both should make time slow to a much more manageable speed. Wittman’s experiments suggest that expert meditators are able to stretch their perception of a moment by 25 percent, which makes all that sitting around seem well worth the investment of time, no matter how little you have to play with.  The \\'Zoned Out\\' ZoneGiven all the effort we spend trying to get into the zone it might seem strange to actively try to stay out of it. But there are some mental skills that work better when you’re just a little bit away with the fairies. Creativity is one of them. Research by Evangelia Chrysikou at the University of Kansas has found that using brain stimulation to temporarily reduce activity in part of the prefrontal cortex (the region of the brain behind the forehead), increased the number of creative uses for everyday objects that people were able to come up with. This works because the job of the prefrontal cortex is to narrow down the possible thoughts and behaviors that are suitable in any given situation. This is a crucial mental shortcut because it vastly reduces the time we need to make decisions about what to do or say next. The downside—at least for our creative juices—is that it also reduces the scope of our ideas, making blue sky thinking that much more difficult.  So ideally, the right zone to come up with new ideas is one in which activity in the prefrontal cortex is dialled down a little—a state known as transient hypofrontality. “It’s about using the right tool for the right task. If you want to look for ideas then hypofrontal zoning out will help you,” Chrysikou says. There is more than one way to reduce activity in the prefrontal cortex. Tiredness works particularly well, so working when you are naturally at your least alert (morning for night owls, late in the day for morning folk and after lunch for just about everybody) is definitely worth a try. A boozy drink does something similar, according to actual studies on drunk students. And if all else fails, sitting in a quiet and/or dark room can’t help but set the mind wandering to who knows where. However you manage it, it’s worth remembering that while mindfulness is all the rage at the moment, when you want to think creatively, mindlessness is a much better tool for the job. Go on, zone out—your brain will thank you. But remember to come back into the room at some point to make sure that your ideas aren\\'t too bonkers. \"To decide which idea works best, prefrontal involvement is necessary,\" Chrysikou says.  The Cramming ZoneThere’s nothing like a deadline to focus the mind. It’s almost what the fight/flight response was designed for: A short burst of adrenaline narrows focus to help you ignore everything except the life-and-death task at hand. The trouble is, if a period of stress goes on too long, or happens too often, the whole system breaks down, focus scatters, and takes your ability to concentrate with it.  This is partly because high doses of stress hormones, particularly noradrenaline, interferes with focus by binding to sites in the prefrontal cortex, stopping it from working effectively. Another job of the prefrontal cortex is to help us resist impulses that aren’t necessarily helpful for our long-term goals, which explains why stress can leave you mainlining down tea and biscuits when you should be doing some work.  So, what to do when you are stressed and distracted but need to focus  now? One option is—strangely—to make whatever you are doing more difficult to concentrate on. According to load theory, the brainchild of psychologist Nilli Lavie at University College London, the brain only has a limited amount of processing power to use on making sense of the world around us. Her experiments have shown that if you add deliberate distractions to what you are trying to concentrate on (flashing images, colorful borders, background noise) it can actually help you focus. This is because processing these distractions uses up the brain’s processing power, leaving no room to process either external distractions—or your own internal excuses. This post is partially adapted from My Plastic Brain: One woman’s yearlong journey to discover if science can improve her mind (Prometheus Books, 2018).  Sign up for our newsletter to get the best of Tonic delivered to your inbox weekly. ', 'https://www.vice.com/en_us/article/9kgp4v/how-to-improve-focus-be-more-creative', 'Vice']\n",
      "['2016-05-18 13:00:06', '{Mark Bergen}', 'How to watch the Google I/O keynote live', \"Google I/O, the company's big developer conference, kicks off today (May 18). It's a showcase for its newest updates on Android, virtual reality, artificial intelligence and more. (And a chance to bury last year's less-successful launches.) It should be interesting. Here's how you can watch it: With Google, on its YouTube livestream. With Google, on its YouTube livestream in virtual reality, if you have one of its Cardboard devices. VR you ready? Watch the #io16 keynote live on @YouTube 360 this Wed 10AM PT. https://t.co/eZ3yrQCfK0 pic.twitter.com/h5ppO9sVWe Or, best of all, with Recode! Join us at 10 am PT, 1 pm ET, 6 pm in London and 1 am (May 19) in Hong Kong for the keynote kick-off with our liveblog, where we pledge to be entertaining and insightful. And follow our coverage throughout the week for an insider's look at the search giant's next big steps. This article originally appeared on Recode.net.\", 'https://www.vox.com/2016/5/18/11697070/how-to-watch-google-io-2016-developer-conference-keynote', 'Vox']\n",
      "['2017-03-02 00:00:00', '{Tim Hume}', \"China is dismissing unfavorable media reports as fake because that's what Trump does\", 'China is dismissing unfavorable media reports as fake news because that’s what Trump does  China is dismissing unfavorable media reports as fake news because that’s what Trump does  In his short political career, Donald Trump has made a habit of dismissing unfavorable media reports as “fake news.” Now it seems Beijing is taking a page from his playbook, using the term to attempt to discredit foreign media reports on Thursday that claimed a prominent human rights lawyer was tortured in government custody. Experts told VICE News that Chinese state media’s adoption of the term appears to directly borrow from the U.S. president. Referring to the state-run Xinhua news agency report, Zhang Baohui, a political scientist at Hong Kong’s Lingnan University, said that “Xinhua’s usage of this term should be attributed to Trump.” China is just the latest country to adopt Trump’s favorite buzzword to discredit unfavorable reports; Russia and Iran have also begun using the term to dismiss critical coverage. The term “is obviously spreading among countries,” said Zhang. In his short political career, Donald Trump has made a habit of dismissing unfavorable media reports as “fake news.” Now it seems Beijing is taking a page from his playbook, using the term to attempt to discredit foreign media reports on Thursday that claimed a prominent human rights lawyer was tortured in government custody. Experts told VICE News that Chinese state media’s adoption of the term appears to directly borrow from the U.S. president. Referring to the state-run Xinhua news agency report, Zhang Baohui, a political scientist at Hong Kong’s Lingnan University, said that “Xinhua’s usage of this term should be attributed to Trump.” China is just the latest country to adopt Trump’s favorite buzzword to discredit unfavorable reports; Russia and Iran have also begun using the term to dismiss critical coverage. The term “is obviously spreading among countries,” said Zhang. Xinhua, the mouthpiece for the ruling Communist Party, published an article Thursday describing international media reports on the alleged torture of Chinese attorney Xie Yang as “nothing but cleverly orchestrated lies.” “The stories were essentially fake news,” read the article. Fake news – false online reports presented as legitimate news stories – emerged as an issue during last year’s U.S. presidential election, and the rise of deliberately misleading stories is increasingly proving to be a problem in several other countries. But the term has been gradually debased as it is used more and more by political actors seeking to discredit critical coverage or deflect uncomfortable realities. Trump has been the most high-profile adopter of the term, regularly wielding it as an insult to bash any journalism that paints his administration in an unflattering light. The most recent claim of “fake news” from the Chinese centers around the story of Xie, a 45-year-old attorney who has represented clients in many politically sensitive cases. He was detained in the Chinese province of Hunan in July 2015 at the start of an ongoing crackdown on human rights lawyers and activists, and has yet to be released. Late last year reports emerged, sourced to transcripts of interviews with Xie’s lawyers, alleging that he had been subjected to threats and violence in custody – with the aim of forcing him to confess to political crimes. Xie’s claims were reported by outlets such as the The New York Times – regularly accused by Trump of peddling “fake news” – and The Guardian, which said that while the allegations could not be verified, they were consistent with previously documented abuses in custody. The Xinhua article Thursday reported that an “independent team” set up by officials to investigate the torture reports had interviewed Xie and his fellow inmates and established that the alleged abuses did not happen. It claimed the torture allegations had been cooked up by Jiang Tianyong, another prominent human rights lawyer who has been detained since visiting Xie’s relatives in November, and who it said had encouraged Xie’s wife to publicize the claims. The torture claims were designed “to cater to the tastes of Western institutions and media organizations, and to use public opinion to pressure police and smear the Chinese government,” Xinhua said. Human rights groups say that confessions to political crimes made by detained activists in China are typically made under duress. Experts contacted by VICE News said that while Chinese state media had long accused Western news outlets of bias against China, the use of the term “fake news” was a recent development. “I would argue that their use of this term seems to be influenced by Trump’s use of the term to discredit major Western media outlets,” said Patrick Poon, a Hong Kong-based researcher for Amnesty International. According to the Network of Chinese Human Rights Defenders, Xie has been indicted on charges of “inciting subversion of state power,” and “disrupting court order.” Xie’s lawyer, Chen Jiangang, told Reuters Thursday that his client’s account of torture was genuine, saying that Xie had made the same claims to him.', 'https://news.vice.com/en_us/article/xwvj7j/china-is-dismissing-unfavorable-media-reports-as-fake-because-thats-what-trump-does', 'Vice News']\n"
     ]
    }
   ],
   "source": [
    "import csv\n",
    "\n",
    "with open('../dataset/prepped_articles.csv', 'r') as file:\n",
    "    reader = csv.reader(file)\n",
    "    for i, row in enumerate(reader):\n",
    "        if i < 10:\n",
    "            print(row)\n",
    "        else:\n",
    "            break\n"
   ]
  },
  {
   "cell_type": "code",
   "execution_count": 3,
   "metadata": {},
   "outputs": [],
   "source": [
    "df['author'] = df['author'].str.split(', ')\n",
    "df = df.explode('author')"
   ]
  },
  {
   "cell_type": "code",
   "execution_count": 4,
   "metadata": {},
   "outputs": [],
   "source": [
    "df['date'] = pd.to_datetime(df['date'])\n",
    "df = df.drop(columns=['year', 'month', 'day'])"
   ]
  },
  {
   "cell_type": "code",
   "execution_count": 5,
   "metadata": {},
   "outputs": [],
   "source": [
    "df['article'] = df['article'].astype(str).apply(lambda x: re.sub(r'\\{[^}]+\\}', '', x))\n",
    "df = df[df['article'].str.len() >= 500]\n",
    "df['article'] = df['article'].str.replace('\\n', '')\n",
    "df['article'] = df['article'].str.replace('\\r', '')\n",
    "df['title'] = df['title'].str.replace('\\n', '')"
   ]
  },
  {
   "cell_type": "code",
   "execution_count": 6,
   "metadata": {},
   "outputs": [],
   "source": [
    "df.to_csv('output.csv', index=False)"
   ]
  },
  {
   "cell_type": "code",
   "execution_count": 7,
   "metadata": {},
   "outputs": [
    {
     "data": {
      "text/plain": [
       "'The Democratic nomination is now Hillary Clinton\\'s to lose. Bernie Sanders still has time to mount an improbable comeback. But, barring any political earthquakes, Clinton\\'s sizable delegate lead and broad coalition make it difficult to imagine how Sanders can pull off an upset, according to close trackers of the race. \"Clinton has been the huge favorite this whole time and continues to be,\" said Kyle Kondik, managing editor of Sabato\\'s Crystal Ball at the University of Virginia\\'s Center for Politics. \"I don\\'t see how Sanders catches up to her.\" On Super Tuesday, Clinton surged ahead of Sanders by the metric that matters most: delegates. She racked up 505 delegates in winning seven of 11 states, compared with the 334 delegates Sanders took in winning four states, according to an analysis by Richard Berg-Andersson, a researcher who tracks Democratic delegate math at the Green Papers. (Some districts remained too close to call as of Wednesday morning.) \"Clinton had the night she needed to have,\" Berg-Andersson said. \"She\\'s now well on her way to winning the nomination.\" <!-- new pym.Parent(\\'presidential-primaries-delegate-tracker-2016__graphic-dem-delegate-tracker\\', \\'http://www.vox.com/a/presidential-primary-delegate-tracker/dem-delegate-tracker-index\\', ); // --> Clinton now leads Sanders by around 200 pledged delegates — in large part because of her big wins across many Southern states on Tuesday. It\\'s tough to see how Sanders closes that gap, even if he runs more or less evenly with her the rest of the race. That\\'s in part because the Democratic Party awards delegates proportionally, meaning candidates need to win the popular vote by big margins to make up a delegate deficit. Beyond the delegate math, Super Tuesday provided several other reasons to doubt that Sanders could seriously threaten Clinton for the nomination. Perhaps the biggest reason is that Clinton has continued to clobber Sanders among African-American voters, and not just in the Deep South. She won a massive 93 percent of the black vote in Alabama, for instance, but also won black voters in Oklahoma, Virginia, Texas, and Tennessee by huge margins. There had been some speculation that Sanders had closed the gap with Hispanic voters in Nevada. But as FiveThirtyEight\\'s Harry Enten notes, Clinton won Hispanic voters by around 42 points in Texas — suggesting Florida and New Mexico will also be favorable terrain for the former secretary of state. Then there was also evidence that Sanders\\'s appeal is limited even among white voters. Sanders lost Massachusetts, even though white people made up 86 percent of the electorate; he also lost the white vote in Tennessee, Texas, Georgia, and Virginia, according to NBC News\\'s exit polls. The problem for Sanders isn\\'t just that Clinton swept the Southern states. It\\'s also that she\\'s likely run well ahead of him in primaries with big Democratic establishments that loom large on the calendar. \"I think Massachusetts was the most telling win of the night,\" said Elaine Kamarck, senior fellow and director of the Center for Effective Public Management at the Brookings Institution. \"In a place that\\'s in Bernie Sanders\\'s backyard and known for its liberalism, she still won.\" Clinton\\'s strength in Massachusetts, which\\xa0she won narrowly, probably reflects her strength in states with strong Democratic institutions. And that suggests she\\'ll have a huge advantage when the contest reaches delegate-rich states like Pennsylvania, Ohio, Illinois, and New York. \"Those are areas with large African-American populations and an established Democratic Party organization that will be very Hillary-friendly,\" Berg-Andersson said. \"Sanders is not going to get delegate boosts from those states.\" By contrast, the kinds of states where Sanders has done well don\\'t tend to have that many delegates. A big piece of Sanders\\'s coalition has been downscale white voters, who helped him win Oklahoma by 10 points on Tuesday. But while there are many states that fit this demographic makeup, most of them just aren\\'t very big and don\\'t have that many delegates. (Added up, the Sanders-friendly states like Kansas, Nebraska, Idaho, Wyoming, and Oregon have around the same number of delegates as Clinton-friendly Illinois.) None of this is to say that Sanders is certainly done. Sanders\\'s campaign argued on Wednesday that Sanders has a viable path to the nomination that runs through industrial Midwestern states battered by the recession, according to the Washington Post. That strategy would make the March 8 primary in Michigan, which has\\xa0147 delegates, a crucial battleground for Sanders. \"We still think we have a winning hand in this game, and we’re going to continue to play it,\" said Tad Devine, a Sanders aide, according to the Washington Post. But with Clinton leading by double digits in\\xa0several recent national polls, Sanders will have to change something — and do it fast — to alter the fundamentals of the race. \"[Clinton] has a substantial lead, a substantial delegate lead, and a great deal of momentum,\" Kamarck said. \"I suspect she\\'s going to win. But it\\'s not impossible for him to come back.\"'"
      ]
     },
     "execution_count": 7,
     "metadata": {},
     "output_type": "execute_result"
    }
   ],
   "source": [
    "df.iloc[133].article"
   ]
  }
 ],
 "metadata": {
  "kernelspec": {
   "display_name": "ttds",
   "language": "python",
   "name": "python3"
  },
  "language_info": {
   "codemirror_mode": {
    "name": "ipython",
    "version": 3
   },
   "file_extension": ".py",
   "mimetype": "text/x-python",
   "name": "python",
   "nbconvert_exporter": "python",
   "pygments_lexer": "ipython3",
   "version": "3.1.0"
  }
 },
 "nbformat": 4,
 "nbformat_minor": 2
}
